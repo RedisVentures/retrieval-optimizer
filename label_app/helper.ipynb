{
 "cells": [
  {
   "cell_type": "code",
   "execution_count": 1,
   "metadata": {},
   "outputs": [],
   "source": [
    "import sys\n",
    "import os\n",
    "\n",
    "# Add the parent directory to the Python path to get optimize module\n",
    "sys.path.append(os.path.abspath(os.path.join(os.getcwd(), '../')))\n",
    "\n",
    "import nest_asyncio\n",
    "\n",
    "# Apply the nest_asyncio patch: let's us run async code in Jupyter\n",
    "nest_asyncio.apply()"
   ]
  },
  {
   "cell_type": "code",
   "execution_count": null,
   "metadata": {},
   "outputs": [],
   "source": [
    "ID_FIELD_NAME = \"chunk_id\"\n",
    "CHUNK_FIELD_NAME = \"content\"\n",
    "\n",
    "def parse_index_items(items, storage_type=\"hash\"):\n",
    "    if storage_type == \"json\":\n",
    "        return [\n",
    "            {\"item_id\": item[ID_FIELD_NAME], \"text\": item[CHUNK_FIELD_NAME]}\n",
    "            for item in items\n",
    "        ]\n",
    "    else:\n",
    "        return [\n",
    "            {\n",
    "                \"item_id\": item[ID_FIELD_NAME.encode()].decode(),\n",
    "                \"text\": item[CHUNK_FIELD_NAME.encode()].decode(),\n",
    "            }\n",
    "            for item in items\n",
    "        ]\n",
    "\n",
    "\n",
    "def get_items_by_pattern(client, pattern, storage_type=\"hash\"):\n",
    "    cursor = \"0\"\n",
    "    items = []\n",
    "\n",
    "    while cursor != 0:\n",
    "        cursor, keys = client.scan(cursor=cursor, match=pattern)\n",
    "        for key in keys:\n",
    "            if storage_type == \"json\":\n",
    "                items.append(client.json().get(key))\n",
    "            else:\n",
    "                items.append(client.hgetall(key))\n",
    "\n",
    "    return items"
   ]
  },
  {
   "cell_type": "code",
   "execution_count": null,
   "metadata": {},
   "outputs": [],
   "source": [
    "from redis import Redis\n",
    "\n",
    "client = Redis.from_url(\"redis://localhost:6379/0\")\n",
    "items = get_items_by_pattern(client, \"mazda:*\", storage_type=\"hash\")"
   ]
  }
 ],
 "metadata": {
  "kernelspec": {
   "display_name": "label-app-6Y8iP12x-py3.11",
   "language": "python",
   "name": "python3"
  },
  "language_info": {
   "codemirror_mode": {
    "name": "ipython",
    "version": 3
   },
   "file_extension": ".py",
   "mimetype": "text/x-python",
   "name": "python",
   "nbconvert_exporter": "python",
   "pygments_lexer": "ipython3",
   "version": "3.11.9"
  }
 },
 "nbformat": 4,
 "nbformat_minor": 2
}
