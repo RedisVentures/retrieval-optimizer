{
 "cells": [
  {
   "cell_type": "markdown",
   "metadata": {},
   "source": [
    "# Processing data\n",
    "\n",
    "Populating a Redis index for vector search.\n",
    "\n",
    "## from a pdf\n",
    "\n",
    "If starting from a pdf document that you want to make searchable you can use langchain pointing to your pdf file to break into chunks"
   ]
  },
  {
   "cell_type": "code",
   "execution_count": 1,
   "metadata": {},
   "outputs": [
    {
     "name": "stderr",
     "output_type": "stream",
     "text": [
      "/var/folders/_g/rr4lnxxx1_z7m78lz89dhvsm0000gp/T/ipykernel_95786/1274433323.py:11: LangChainDeprecationWarning: The class `UnstructuredFileLoader` was deprecated in LangChain 0.2.8 and will be removed in 1.0. An updated version of the class exists in the :class:`~langchain-unstructured package and should be used instead. To use it run `pip install -U :class:`~langchain-unstructured` and import as `from :class:`~langchain_unstructured import UnstructuredLoader``.\n",
      "  loader = UnstructuredFileLoader(\n",
      "[Errno 2] No such file or directory: 'bob/bob_1.pdf'\n",
      "PDF text extraction failed, skip text extraction...\n"
     ]
    },
    {
     "name": "stdout",
     "output_type": "stream",
     "text": [
      "Done preprocessing. Created 0 chunks of the original pdf bob/bob_1.pdf\n"
     ]
    }
   ],
   "source": [
    "from langchain.text_splitter import RecursiveCharacterTextSplitter\n",
    "from langchain.document_loaders import UnstructuredFileLoader\n",
    "\n",
    "doc = \"bob/bob_1.pdf\" # path to pdf or other type of file to load\n",
    "\n",
    "# set up the file loader/extractor and text splitter to create chunks\n",
    "text_splitter = RecursiveCharacterTextSplitter(\n",
    "    chunk_size=1000, chunk_overlap=0\n",
    ")\n",
    "\n",
    "loader = UnstructuredFileLoader(\n",
    "    doc, mode=\"single\", strategy=\"fast\"\n",
    ")\n",
    "\n",
    "# extract, load, and make chunks\n",
    "chunks = loader.load_and_split(text_splitter)\n",
    "\n",
    "print(\"Done preprocessing. Created\", len(chunks), \"chunks of the original pdf\", doc)"
   ]
  },
  {
   "cell_type": "markdown",
   "metadata": {},
   "source": [
    "## Save the chunks to a file"
   ]
  },
  {
   "cell_type": "code",
   "execution_count": null,
   "metadata": {},
   "outputs": [],
   "source": [
    "import json\n",
    "\n",
    "output_file = \"raw_chunks.json\"\n",
    "\n",
    "with open(output_file, \"w\") as f:\n",
    "    json_chunks = [\n",
    "        {\n",
    "            \"text\": chunk.page_content,\n",
    "            \"item_id\": i\n",
    "        } for i, chunk in enumerate(chunks)\n",
    "    ]\n",
    "\n",
    "    json.dump(json_chunks, f)"
   ]
  },
  {
   "cell_type": "markdown",
   "metadata": {},
   "source": [
    "# Example from already created chunks"
   ]
  },
  {
   "cell_type": "code",
   "execution_count": 1,
   "metadata": {},
   "outputs": [],
   "source": [
    "import json\n",
    "with open(\"data/2008-mazda3-chunks.json\", \"r\") as f:\n",
    "    chunks = json.load(f)"
   ]
  },
  {
   "cell_type": "code",
   "execution_count": 2,
   "metadata": {},
   "outputs": [
    {
     "data": {
      "text/plain": [
       "True"
      ]
     },
     "execution_count": 2,
     "metadata": {},
     "output_type": "execute_result"
    }
   ],
   "source": [
    "import os\n",
    "import warnings\n",
    "\n",
    "warnings.filterwarnings(\"ignore\")\n",
    "\n",
    "from redisvl.utils.vectorize import HFTextVectorizer\n",
    "\n",
    "hf = HFTextVectorizer(\"sentence-transformers/all-MiniLM-L6-v2\")\n",
    "os.environ[\"TOKENIZERS_PARALLELISM\"] = \"false\"\n",
    "\n",
    "# Embed each chunk content\n",
    "embeddings = hf.embed_many([chunk for chunk in chunks])\n",
    "\n",
    "# Check to make sure we've created enough embeddings, 1 per document chunk\n",
    "len(embeddings) == len(chunks)"
   ]
  },
  {
   "cell_type": "code",
   "execution_count": null,
   "metadata": {},
   "outputs": [],
   "source": [
    "from redis import Redis\n",
    "from redisvl.index import SearchIndex\n",
    "\n",
    "REDIS_URL = \"redis://localhost:6379/0\"\n",
    "\n",
    "# connect to redis\n",
    "client = Redis.from_url(REDIS_URL)\n",
    "\n",
    "# path to the schema file\n",
    "path_to_yaml = \"schema/index_schema.yaml\"\n",
    "\n",
    "# create an index from schema and the client\n",
    "index = SearchIndex.from_yaml(path_to_yaml)\n",
    "index.set_client(client)\n",
    "index.create(overwrite=True, drop=True)"
   ]
  },
  {
   "cell_type": "code",
   "execution_count": 127,
   "metadata": {},
   "outputs": [],
   "source": [
    "from redisvl.redis.utils import array_to_buffer\n",
    "\n",
    "data = [\n",
    "    {\n",
    "        'chunk_id': i,\n",
    "        'content': chunk,\n",
    "        # For HASH -- must convert embeddings to bytes\n",
    "        'text_embedding': array_to_buffer(embeddings[i], dtype=\"float32\")\n",
    "    } for i, chunk in enumerate(chunks)\n",
    "]\n",
    "\n",
    "# RedisVL handles batching automatically\n",
    "keys = index.load(data, id_field=\"chunk_id\")"
   ]
  },
  {
   "cell_type": "code",
   "execution_count": 128,
   "metadata": {},
   "outputs": [
    {
     "data": {
      "text/plain": [
       "251"
      ]
     },
     "execution_count": 128,
     "metadata": {},
     "output_type": "execute_result"
    }
   ],
   "source": [
    "index.info()[\"num_docs\"]"
   ]
  },
  {
   "cell_type": "code",
   "execution_count": 104,
   "metadata": {},
   "outputs": [
    {
     "data": {
      "text/plain": [
       "'0.3.5'"
      ]
     },
     "execution_count": 104,
     "metadata": {},
     "output_type": "execute_result"
    }
   ],
   "source": [
    "import redisvl\n",
    "redisvl.__version__"
   ]
  },
  {
   "cell_type": "code",
   "execution_count": 121,
   "metadata": {},
   "outputs": [
    {
     "name": "stdout",
     "output_type": "stream",
     "text": [
      "11:07:34 redisvl.index.index INFO   Index already exists, overwriting.\n"
     ]
    }
   ],
   "source": [
    "path_to_yaml = \"schema/index_json_schema.yaml\"\n",
    "# create an index from schema and the client\n",
    "jindex = SearchIndex.from_yaml(path_to_yaml)\n",
    "jindex.set_client(client)\n",
    "jindex.create(overwrite=True, drop=True)"
   ]
  },
  {
   "cell_type": "code",
   "execution_count": 122,
   "metadata": {},
   "outputs": [],
   "source": [
    "jdata = [\n",
    "    {\n",
    "        'chunk_id': str(i),\n",
    "        'content': chunk,\n",
    "        # For HASH -- must convert embeddings to bytes\n",
    "        'text_embedding': embeddings[i]\n",
    "    } for i, chunk in enumerate(chunks)\n",
    "]\n",
    "\n",
    "# RedisVL handles batching automatically\n",
    "keys = jindex.load(jdata, id_field=\"chunk_id\")"
   ]
  },
  {
   "cell_type": "code",
   "execution_count": 123,
   "metadata": {},
   "outputs": [
    {
     "data": {
      "text/plain": [
       "['indexing failures',\n",
       " 251,\n",
       " 'last indexing error',\n",
       " 'Invalid JSON type: Numeric type can represent only NUMERIC field',\n",
       " 'last indexing error key',\n",
       " 'jmazda:106']"
      ]
     },
     "execution_count": 123,
     "metadata": {},
     "output_type": "execute_result"
    }
   ],
   "source": [
    "jindex.info()['Index Errors']"
   ]
  },
  {
   "cell_type": "code",
   "execution_count": 125,
   "metadata": {},
   "outputs": [
    {
     "data": {
      "text/plain": [
       "251"
      ]
     },
     "execution_count": 125,
     "metadata": {},
     "output_type": "execute_result"
    }
   ],
   "source": [
    "jindex.info()[\"num_docs\"]"
   ]
  },
  {
   "cell_type": "code",
   "execution_count": 108,
   "metadata": {},
   "outputs": [
    {
     "data": {
      "text/plain": [
       "{'chunk_id': 159,\n",
       " 'content': 'chunk',\n",
       " 'text_embedding': [-0.03486854210495949,\n",
       "  -0.005751671735197306,\n",
       "  -0.04224590212106705,\n",
       "  -0.03011305443942547,\n",
       "  -0.09495680779218674,\n",
       "  0.10199162364006042,\n",
       "  0.014732243493199348,\n",
       "  -0.035657722502946854,\n",
       "  0.06949464976787567,\n",
       "  0.0605301633477211,\n",
       "  0.10524240881204604,\n",
       "  0.0394754484295845,\n",
       "  -0.0013509726850315928,\n",
       "  0.048372816294431686,\n",
       "  -0.09504526108503342,\n",
       "  0.04534045234322548,\n",
       "  -0.09370941668748856,\n",
       "  -0.03166469186544418,\n",
       "  -0.01622246764600277,\n",
       "  0.01808370277285576,\n",
       "  0.053429923951625824,\n",
       "  -0.05712372064590454,\n",
       "  0.020160024985671043,\n",
       "  -0.025900688022375107,\n",
       "  -0.010816718451678751,\n",
       "  0.011669243685901163,\n",
       "  0.03133203461766243,\n",
       "  0.032539594918489456,\n",
       "  0.013878904283046722,\n",
       "  -0.03133326768875122,\n",
       "  -0.07313910871744156,\n",
       "  -0.001292429747991264,\n",
       "  0.038690611720085144,\n",
       "  -0.05618341639637947,\n",
       "  -0.03540928289294243,\n",
       "  -0.09604860097169876,\n",
       "  0.013300709426403046,\n",
       "  -0.026457302272319794,\n",
       "  -0.048852987587451935,\n",
       "  -0.019299747422337532,\n",
       "  0.04129451885819435,\n",
       "  -0.0099922064691782,\n",
       "  0.06046906858682632,\n",
       "  -0.11878995597362518,\n",
       "  -0.0394672192633152,\n",
       "  -0.05793454498052597,\n",
       "  0.0050630890764296055,\n",
       "  -0.06076164171099663,\n",
       "  0.04184107109904289,\n",
       "  -0.001873679575510323,\n",
       "  0.014171388931572436,\n",
       "  0.044213905930519104,\n",
       "  0.014984121546149254,\n",
       "  0.015367546118795872,\n",
       "  -0.04750391095876694,\n",
       "  0.015251255594193935,\n",
       "  0.06373913586139679,\n",
       "  0.08782768994569778,\n",
       "  -0.017507174983620644,\n",
       "  0.0071340566501021385,\n",
       "  0.03672469034790993,\n",
       "  -0.04051399603486061,\n",
       "  -0.031282149255275726,\n",
       "  -0.017199888825416565,\n",
       "  -0.08512107282876968,\n",
       "  0.008073613978922367,\n",
       "  -0.030895374715328217,\n",
       "  0.025748874992132187,\n",
       "  -0.010874061845242975,\n",
       "  0.028714437037706375,\n",
       "  -0.06240663304924965,\n",
       "  -0.01949338987469673,\n",
       "  -0.1072261780500412,\n",
       "  -0.06959281116724014,\n",
       "  0.03403721749782562,\n",
       "  -0.01782468892633915,\n",
       "  0.03920365869998932,\n",
       "  -0.008575103245675564,\n",
       "  -0.00447949068620801,\n",
       "  -0.005196447484195232,\n",
       "  0.045958176255226135,\n",
       "  0.05881953984498978,\n",
       "  0.031658023595809937,\n",
       "  0.05576455220580101,\n",
       "  0.04266883432865143,\n",
       "  0.03527439385652542,\n",
       "  -0.02691679075360298,\n",
       "  -0.050702013075351715,\n",
       "  0.0013527560513466597,\n",
       "  -0.08891420811414719,\n",
       "  -0.05764055997133255,\n",
       "  -0.009262269362807274,\n",
       "  0.04125292971730232,\n",
       "  -0.01731734536588192,\n",
       "  0.02671893686056137,\n",
       "  0.04942857101559639,\n",
       "  -0.014339905232191086,\n",
       "  -0.06574342399835587,\n",
       "  -0.05442960187792778,\n",
       "  0.03813939914107323,\n",
       "  0.09092801809310912,\n",
       "  0.008192505687475204,\n",
       "  -0.10293205827474594,\n",
       "  0.002619346370920539,\n",
       "  0.03625866025686264,\n",
       "  0.009343113750219343,\n",
       "  -0.07807405292987823,\n",
       "  -0.027424555271863937,\n",
       "  -0.06710448116064072,\n",
       "  -0.012417827732861042,\n",
       "  0.03663274645805359,\n",
       "  0.04733552038669586,\n",
       "  -0.0007584182894788682,\n",
       "  0.01907362975180149,\n",
       "  0.006488478276878595,\n",
       "  0.07973987609148026,\n",
       "  -0.011887667700648308,\n",
       "  0.025826439261436462,\n",
       "  0.033762697130441666,\n",
       "  0.0823708325624466,\n",
       "  -0.06670718640089035,\n",
       "  0.01927315816283226,\n",
       "  -0.016398822888731956,\n",
       "  0.03128863871097565,\n",
       "  0.02547917701303959,\n",
       "  -0.018883584067225456,\n",
       "  -0.010916336439549925,\n",
       "  1.2656822263437082e-33,\n",
       "  -0.041098665446043015,\n",
       "  -0.052265021950006485,\n",
       "  0.040679190307855606,\n",
       "  0.011525056324899197,\n",
       "  -0.04521847143769264,\n",
       "  -0.012918799184262753,\n",
       "  -0.08998232334852219,\n",
       "  0.06039487570524216,\n",
       "  -0.025130849331617355,\n",
       "  0.03760497644543648,\n",
       "  -0.013200175948441029,\n",
       "  -0.010994229465723038,\n",
       "  -0.025900768116116524,\n",
       "  -0.15657232701778412,\n",
       "  -0.01438111998140812,\n",
       "  0.011764733120799065,\n",
       "  -0.009791881777346134,\n",
       "  0.0360645055770874,\n",
       "  -0.07422232627868652,\n",
       "  -0.0002792480227071792,\n",
       "  -0.006976660341024399,\n",
       "  -0.06104705482721329,\n",
       "  0.02479678951203823,\n",
       "  -0.08116824924945831,\n",
       "  0.055609192699193954,\n",
       "  0.09678475558757782,\n",
       "  0.007812258787453175,\n",
       "  -0.0006688503781333566,\n",
       "  0.16183587908744812,\n",
       "  0.030367445200681686,\n",
       "  -0.08136796951293945,\n",
       "  0.0128055140376091,\n",
       "  0.04683232307434082,\n",
       "  0.07767388969659805,\n",
       "  -0.04697981476783752,\n",
       "  0.042300112545490265,\n",
       "  -0.04284832626581192,\n",
       "  0.01055415626615286,\n",
       "  -0.048358749598264694,\n",
       "  0.01644495315849781,\n",
       "  0.010041091591119766,\n",
       "  -0.09652574360370636,\n",
       "  -0.06374277919530869,\n",
       "  0.04899417981505394,\n",
       "  0.018537115305662155,\n",
       "  -0.03519308567047119,\n",
       "  0.10468664020299911,\n",
       "  0.004549710545688868,\n",
       "  0.08404392749071121,\n",
       "  0.036926690489053726,\n",
       "  0.004161240067332983,\n",
       "  -0.018619654700160027,\n",
       "  0.0035128360614180565,\n",
       "  0.02799384109675884,\n",
       "  -0.04551738128066063,\n",
       "  -0.06343824416399002,\n",
       "  -0.03349992632865906,\n",
       "  0.08682886511087418,\n",
       "  -0.03975212946534157,\n",
       "  -0.0007316720439121127,\n",
       "  0.03276853635907173,\n",
       "  -0.008544186130166054,\n",
       "  0.0008005942218005657,\n",
       "  -0.0056511168368160725,\n",
       "  0.0371108315885067,\n",
       "  -0.011647132225334644,\n",
       "  0.002829225035384298,\n",
       "  0.030863700434565544,\n",
       "  0.03872935101389885,\n",
       "  -0.03237461671233177,\n",
       "  -0.05343702808022499,\n",
       "  0.0429302416741848,\n",
       "  -0.07259035855531693,\n",
       "  0.00031595141626894474,\n",
       "  -0.1450076699256897,\n",
       "  0.04101678729057312,\n",
       "  -0.026076139882206917,\n",
       "  0.07066800445318222,\n",
       "  0.02235881425440311,\n",
       "  -0.03861811384558678,\n",
       "  0.04502144083380699,\n",
       "  -0.07815984636545181,\n",
       "  0.010149717330932615,\n",
       "  -0.01654049940407276,\n",
       "  0.01087408885359764,\n",
       "  0.008651284500956535,\n",
       "  0.02937663532793522,\n",
       "  -0.012423760257661344,\n",
       "  0.053063467144966125,\n",
       "  0.028583521023392677,\n",
       "  0.06254292279481888,\n",
       "  0.061052996665239334,\n",
       "  -0.017681537196040154,\n",
       "  -4.36603331763763e-05,\n",
       "  0.04381608963012695,\n",
       "  -2.964604650626479e-33,\n",
       "  -0.008580677211284637,\n",
       "  -0.036320921033620834,\n",
       "  0.003487060312181711,\n",
       "  -0.12061489373445512,\n",
       "  0.07388834655284882,\n",
       "  -0.0036369177978485823,\n",
       "  0.05502135679125786,\n",
       "  -0.04501190409064293,\n",
       "  -0.0017610525246709583,\n",
       "  0.02664247713983059,\n",
       "  0.057306479662656784,\n",
       "  0.02055152878165245,\n",
       "  0.014092344790697098,\n",
       "  -0.0040321024134755135,\n",
       "  0.0395757257938385,\n",
       "  -0.048629555851221085,\n",
       "  -0.05793894082307816,\n",
       "  0.02371535636484623,\n",
       "  -0.059628259390592575,\n",
       "  0.10365185886621477,\n",
       "  -0.03573692589998245,\n",
       "  0.01427341904491186,\n",
       "  0.03256366029381752,\n",
       "  0.003980464302003384,\n",
       "  -0.056192245334386826,\n",
       "  -0.015544007532298563,\n",
       "  0.0051901377737522125,\n",
       "  0.04357175901532173,\n",
       "  -0.017918329685926437,\n",
       "  0.06512434780597687,\n",
       "  0.018402382731437683,\n",
       "  0.008214707486331463,\n",
       "  -0.13525022566318512,\n",
       "  0.010175997391343117,\n",
       "  0.020860200747847557,\n",
       "  -0.0032950625754892826,\n",
       "  -0.019289478659629825,\n",
       "  0.001902004238218069,\n",
       "  0.0012861137511208651,\n",
       "  -0.0882326290011406,\n",
       "  -0.11317210644483566,\n",
       "  0.08144178241491318,\n",
       "  0.06083783134818077,\n",
       "  -0.025197654962539673,\n",
       "  0.03282704949378967,\n",
       "  -0.08128486573696136,\n",
       "  -0.030811363831162453,\n",
       "  -0.03628044202923775,\n",
       "  -0.04089249670505524,\n",
       "  0.03290829062461853,\n",
       "  -0.05629114806652069,\n",
       "  -0.05208203569054603,\n",
       "  0.010225877165794373,\n",
       "  0.05116073414683342,\n",
       "  -0.03629649430513382,\n",
       "  0.06342096626758575,\n",
       "  -0.023232098668813705,\n",
       "  -0.03159022331237793,\n",
       "  -0.059363968670368195,\n",
       "  0.051492419093847275,\n",
       "  0.07095290720462799,\n",
       "  0.009359633550047874,\n",
       "  -0.05761338025331497,\n",
       "  -0.04782451316714287,\n",
       "  0.028844673186540604,\n",
       "  -0.0605640672147274,\n",
       "  0.025727471336722377,\n",
       "  -0.009090944193303583,\n",
       "  0.03332550451159477,\n",
       "  0.052908387035131454,\n",
       "  0.04670383781194687,\n",
       "  0.08107416331768036,\n",
       "  0.09209567308425903,\n",
       "  -0.04137774184346199,\n",
       "  0.038665175437927246,\n",
       "  0.0670543909072876,\n",
       "  -0.06316211819648743,\n",
       "  -0.07863486558198929,\n",
       "  0.0222543440759182,\n",
       "  -0.028105581179261208,\n",
       "  0.012408124282956123,\n",
       "  -0.02624598890542984,\n",
       "  0.05175688862800598,\n",
       "  0.011262702755630016,\n",
       "  -0.09947388619184494,\n",
       "  -0.020876262336969376,\n",
       "  0.03451273962855339,\n",
       "  0.1101103276014328,\n",
       "  0.04834380745887756,\n",
       "  0.00010526816913625224,\n",
       "  -0.07740984857082367,\n",
       "  0.006975014694035053,\n",
       "  -0.06513296812772751,\n",
       "  0.07247486710548401,\n",
       "  -0.04271225258708,\n",
       "  -5.126582536263413e-08,\n",
       "  0.008795836940407753,\n",
       "  -0.018687693402171135,\n",
       "  -0.045792050659656525,\n",
       "  -0.03422538936138153,\n",
       "  0.042149633169174194,\n",
       "  0.017478955909609795,\n",
       "  -0.04186543822288513,\n",
       "  -0.03721998259425163,\n",
       "  -0.08152078837156296,\n",
       "  -0.01614293083548546,\n",
       "  -0.006475550588220358,\n",
       "  0.02857041731476784,\n",
       "  0.031489402055740356,\n",
       "  0.11002828925848009,\n",
       "  -0.012441221624612808,\n",
       "  0.004362526349723339,\n",
       "  -0.0354289747774601,\n",
       "  0.039063964039087296,\n",
       "  0.005383259616792202,\n",
       "  -0.02919973060488701,\n",
       "  -0.0020388399716466665,\n",
       "  0.026845892891287804,\n",
       "  0.05753763765096664,\n",
       "  0.018777668476104736,\n",
       "  0.028261063620448112,\n",
       "  -0.04786481335759163,\n",
       "  -0.05097052454948425,\n",
       "  0.11488111317157744,\n",
       "  -2.8954495974176098e-06,\n",
       "  -0.03913796693086624,\n",
       "  -0.013769207522273064,\n",
       "  0.017939481884241104,\n",
       "  -0.09664329886436462,\n",
       "  0.06397780030965805,\n",
       "  -0.0923781543970108,\n",
       "  0.0654030367732048,\n",
       "  0.0542588084936142,\n",
       "  0.0722845047712326,\n",
       "  -0.06158490106463432,\n",
       "  -0.0033479139674454927,\n",
       "  0.15676380693912506,\n",
       "  -0.032628849148750305,\n",
       "  -0.04576999694108963,\n",
       "  0.010406101122498512,\n",
       "  -0.009070206433534622,\n",
       "  0.05262819305062294,\n",
       "  0.11559169739484788,\n",
       "  -0.0027519722934812307,\n",
       "  0.0025781928561627865,\n",
       "  0.12428963929414748,\n",
       "  -0.06489420682191849,\n",
       "  0.0007896459428593516,\n",
       "  -0.033553242683410645,\n",
       "  0.008175201714038849,\n",
       "  0.06814277172088623,\n",
       "  -0.06862660497426987,\n",
       "  -0.037509381771087646,\n",
       "  0.06158951297402382,\n",
       "  -0.09113167226314545,\n",
       "  0.020090194419026375,\n",
       "  -0.10513398051261902,\n",
       "  0.052041150629520416,\n",
       "  0.05925195664167404,\n",
       "  -0.01948615536093712]}"
      ]
     },
     "execution_count": 108,
     "metadata": {},
     "output_type": "execute_result"
    }
   ],
   "source": [
    "jindex.client.json().get(\"jmazda:0055927de2b94980ba6d9c35586f7842\")"
   ]
  },
  {
   "cell_type": "code",
   "execution_count": 95,
   "metadata": {},
   "outputs": [
    {
     "data": {
      "text/plain": [
       "Result{0 total, docs: []}"
      ]
     },
     "execution_count": 95,
     "metadata": {},
     "output_type": "execute_result"
    }
   ],
   "source": [
    "jindex.search(\"*\")"
   ]
  },
  {
   "cell_type": "code",
   "execution_count": 24,
   "metadata": {},
   "outputs": [],
   "source": [
    "from redisvl.query import BaseQuery\n",
    "\n",
    "query = BaseQuery(\"*\")\n",
    "res = index.query(query)"
   ]
  },
  {
   "cell_type": "code",
   "execution_count": 67,
   "metadata": {},
   "outputs": [],
   "source": [
    "ID_FIELD_NAME=\"chunk_id\"\n",
    "CHUNK_FIELD_NAME=\"content\"\n",
    "\n",
    "def parse_index_items(items, storage_type=\"hash\"):\n",
    "    if storage_type == \"json\":\n",
    "        return [\n",
    "            {\n",
    "                \"item_id\": item[ID_FIELD_NAME],\n",
    "                \"text\": item[CHUNK_FIELD_NAME]\n",
    "            } for item in items]\n",
    "    else:\n",
    "        return [\n",
    "            {\n",
    "                \"item_id\": item[ID_FIELD_NAME.encode()].decode(), \n",
    "                \"text\": item[CHUNK_FIELD_NAME.encode()].decode()\n",
    "            } for item in items.values()]\n",
    "\n",
    "\n",
    "def get_items_by_pattern(client, pattern, storage_type=\"hash\"):\n",
    "    cursor = '0'\n",
    "    items = []\n",
    "\n",
    "    while cursor != 0:\n",
    "        cursor, keys = client.scan(cursor=cursor, match=pattern)\n",
    "        for key in keys:\n",
    "            if storage_type == \"json\":\n",
    "                items.append(client.json().get(key))\n",
    "            else:\n",
    "                items.append(client.hgetall(key))\n",
    "\n",
    "\n",
    "\n",
    "    return parse_index_items(items, storage_type)"
   ]
  },
  {
   "cell_type": "code",
   "execution_count": 68,
   "metadata": {},
   "outputs": [],
   "source": [
    "# Define the pattern to match keys (e.g., 'index:*' for keys starting with 'index:')\n",
    "pattern = 'jmazda:*'\n",
    "\n",
    "# Get all items matching the pattern\n",
    "matching_items = get_items_by_pattern(index.client, pattern, storage_type=\"json\")"
   ]
  },
  {
   "cell_type": "code",
   "execution_count": 65,
   "metadata": {},
   "outputs": [
    {
     "data": {
      "text/plain": [
       "251"
      ]
     },
     "execution_count": 65,
     "metadata": {},
     "output_type": "execute_result"
    }
   ],
   "source": [
    "len(matching_items)"
   ]
  },
  {
   "cell_type": "code",
   "execution_count": 69,
   "metadata": {},
   "outputs": [
    {
     "data": {
      "text/plain": [
       "{'item_id': 143,\n",
       " 'text': '3. [SR + (bank number) + CH + (preset number) + (channel number)] are displayed. (Programming with “text” display (e.g. channel name))\\n\\n1. Press the display button to select the desired text display mode (e.g. channel name). Select the desired channel to be programmed. At this point, the following is displayed: [SR + (bank number) + (selected text (e.g. channel name))]\\n\\n2. Keep pressing the channel preset button for 1.5 seconds or more. The programming process is complete after the text (e.g. channel name) flashes. Then, [SR + (bank number)] is displayed and you will hear beep sound at the same time.\\n\\n3. SR + (bank number) + CH + (preset number) + (channel number)] are displayed.\\n\\nMazda3_8Y64-EA-08A_Edition1 Page221 Tuesday, November 27 2007 9:1 AM\\n\\n4. Three seconds later, it returns to normal display. [SR + (bank number) + (text (e.g. channel name))] NOTE Six stations can be stored in each bank, SR1, SR2, and SR3 for convenient access to your favorite stations.\\n\\nPreset channel call-up\\n\\nPress and release the channel preset button for about 1.5 seconds, [SR + (bank number) + CH + (preset number) + (channel number)] appears. When the preset button is pressed during text mode, its channel number is displayed first for 3 second and then its text is displayed.\\n\\nNOTE In the initial setting, all channels are preset to 184.\\n\\nCategory change\\n\\nPress the category button (UP or DOWN) and select the desired category. l Press the category button (UP):\\n\\nCategory up\\n\\nl Press the category button (DOWN):\\n\\nCategory down\\n\\nEvery time the category (UP) button is pressed for 1.5 second or less, the category is changed over in the order shown below. At this time, the lowest (smallest-number) channel within the category indicated is received. When the highest (or lowest) category is reached, the category is changed over in the order shown below. Highest category→Category all→Lowest category\\n\\nForm No.8Y64-EA-08A\\n\\nBlack plate (221,1)\\n\\nInterior Comfort Audio System\\n\\nNOTE While in “CATEGORY ALL” mode, all channels covering a category can be accessed (Category off condition).\\n\\nChannel selection within a category If category is not in “ALL” and the channel number is displayed, turning the manual tuning dial moves the channel number up/down in the present category. l Turn the manual tuning dial clockwise:\\n\\nChannel Up\\n\\nl Turn the manual tuning dial\\n\\ncounterclockwise: Channel Down\\n\\nNOTE The channel number needs to be indicated in the display to use manual tuning dial for this function.'}"
      ]
     },
     "execution_count": 69,
     "metadata": {},
     "output_type": "execute_result"
    }
   ],
   "source": [
    "matching_items[0]"
   ]
  },
  {
   "cell_type": "code",
   "execution_count": 49,
   "metadata": {},
   "outputs": [
    {
     "name": "stdout",
     "output_type": "stream",
     "text": [
      "b'To flash the headlights, pull the lever fully toward you. The headlight switch does not need to be on, and the lever will return to the normal position when released.\\n\\n5-52\\n\\n\\xc3\\xadSome models.\\n\\nForm No.8Y64-EA-08A\\n\\nBlack plate (174,1)\\n\\nqHeadlight Leveling\\xc3\\xad The number of passengers and weight of cargo in the luggage compartment change the angle of the headlights.\\n\\nThe headlight leveling switch adjusts this angle.\\n\\nSelect the proper setting from the following chart. Without turbocharger\\n\\nFront seat Driver Passenger\\n\\n\\xc3\\x97 \\xc3\\x97 \\xc3\\x97 \\xc3\\x97 \\xc3\\x97\\n\\n\\xe2\\x80\\x95\\n\\n\\xc3\\x97 \\xc3\\x97 \\xc3\\x97 \\xe2\\x80\\x95\\n\\nRear seat \\xe2\\x80\\x95 \\xe2\\x80\\x95\\n\\n\\xc3\\x97 \\xc3\\x97 \\xe2\\x80\\x95\\n\\nLoad\\n\\n\\xe2\\x80\\x95 \\xe2\\x80\\x95 \\xe2\\x80\\x95\\n\\n\\xc3\\x97 \\xc3\\x97\\n\\nSwitch Position\\n\\n0 0 1 2 3\\n\\n\\xc3\\x97: Yes \\xe2\\x80\\x95: No With turbocharger\\n\\nFront seat Driver Passenger\\n\\n\\xc3\\x97 \\xc3\\x97 \\xc3\\x97 \\xc3\\x97 \\xc3\\x97\\n\\n\\xe2\\x80\\x95\\n\\n\\xc3\\x97 \\xc3\\x97 \\xc3\\x97 \\xe2\\x80\\x95\\n\\nRear seat \\xe2\\x80\\x95 \\xe2\\x80\\x95\\n\\n\\xc3\\x97 \\xc3\\x97 \\xe2\\x80\\x95\\n\\nLoad\\n\\n\\xe2\\x80\\x95 \\xe2\\x80\\x95 \\xe2\\x80\\x95\\n\\n\\xc3\\x97 \\xc3\\x97\\n\\nSwitch Position\\n\\n0 0 1 1 2\\n\\n\\xc3\\x97: Yes \\xe2\\x80\\x95: No\\n\\nMazda3_8Y64-EA-08A_Edition1 Page175 Tuesday, November 27 2007 9:1 AM\\n\\nqDaytime Running Lights (Canada)\\n\\nIn Canada, vehicles must be driven with the headlights on during daytime operation.\\n\\nFor that reason, the daytime running lights automatically turn on when the ignition switch is turned to the ON position.\\n\\nNOTE The Daytime Running Lights turn off when the parking brake is applied.\\n\\nForm No.8Y64-EA-08A\\n\\nBlack plate (175,1)\\n\\nDriving Your Mazda Switches and Controls\\n\\nTurn and Lane-Change Signals\\n\\nqTurn Signal\\n\\nMove the signal lever down (for a left turn) or up (for a right turn) to the stop position. The signal will self-cancel after the turn is completed.\\n\\nIf the indicator light continues to flash after a turn, manually return the lever to its original position.\\n\\nRight turn\\n\\nRight lane change\\n\\nOFF\\n\\nLeft lane change\\n\\nLeft turn\\n\\nGreen indicators on the dashboard show which signal is working.\\n\\nLane-change signals\\n\\nMove the lever slightly toward the direction of the change \\xe2\\x80\\x95until the indicator flashes\\xe2\\x80\\x95 and hold it there. It will return to the off position when released.\\n\\nNOTE If an indicator light stays on without flashing or if it flashes abnormally, one of the turn signal bulbs may be burned out.\\n\\n5-53\\n\\nMazda3_8Y64-EA-08A_Edition1 Page176 Tuesday, November 27 2007 9:1 AM\\n\\nDriving Your Mazda Switches and Controls\\n\\nFog Lights\\xc3\\xad\\n\\nThe front fog lights help you to see as well as to be seen.\\n\\nThe headlights must be turned on to turn on the front fog lights.\\n\\nTo turn the front fog lights on, rotate the fog light switch to the\\n\\nposition.\\n\\nFog light switch\\n\\nTo turn the front fog lights off, rotate the fog light switch to the OFF position or turn the headlights off.'\n"
     ]
    }
   ],
   "source": [
    "for item in matching_items.values():\n",
    "    print(item['content'.encode('utf-8')])\n",
    "    # print(item[1][b'chunk_id'])\n",
    "    break"
   ]
  },
  {
   "cell_type": "code",
   "execution_count": null,
   "metadata": {},
   "outputs": [],
   "source": []
  },
  {
   "cell_type": "code",
   "execution_count": 57,
   "metadata": {},
   "outputs": [
    {
     "data": {
      "text/plain": [
       "{'item_id': '115',\n",
       " 'text': 'To flash the headlights, pull the lever fully toward you. The headlight switch does not need to be on, and the lever will return to the normal position when released.\\n\\n5-52\\n\\níSome models.\\n\\nForm No.8Y64-EA-08A\\n\\nBlack plate (174,1)\\n\\nqHeadlight Levelingí The number of passengers and weight of cargo in the luggage compartment change the angle of the headlights.\\n\\nThe headlight leveling switch adjusts this angle.\\n\\nSelect the proper setting from the following chart. Without turbocharger\\n\\nFront seat Driver Passenger\\n\\n× × × × ×\\n\\n―\\n\\n× × × ―\\n\\nRear seat ― ―\\n\\n× × ―\\n\\nLoad\\n\\n― ― ―\\n\\n× ×\\n\\nSwitch Position\\n\\n0 0 1 2 3\\n\\n×: Yes ―: No With turbocharger\\n\\nFront seat Driver Passenger\\n\\n× × × × ×\\n\\n―\\n\\n× × × ―\\n\\nRear seat ― ―\\n\\n× × ―\\n\\nLoad\\n\\n― ― ―\\n\\n× ×\\n\\nSwitch Position\\n\\n0 0 1 1 2\\n\\n×: Yes ―: No\\n\\nMazda3_8Y64-EA-08A_Edition1 Page175 Tuesday, November 27 2007 9:1 AM\\n\\nqDaytime Running Lights (Canada)\\n\\nIn Canada, vehicles must be driven with the headlights on during daytime operation.\\n\\nFor that reason, the daytime running lights automatically turn on when the ignition switch is turned to the ON position.\\n\\nNOTE The Daytime Running Lights turn off when the parking brake is applied.\\n\\nForm No.8Y64-EA-08A\\n\\nBlack plate (175,1)\\n\\nDriving Your Mazda Switches and Controls\\n\\nTurn and Lane-Change Signals\\n\\nqTurn Signal\\n\\nMove the signal lever down (for a left turn) or up (for a right turn) to the stop position. The signal will self-cancel after the turn is completed.\\n\\nIf the indicator light continues to flash after a turn, manually return the lever to its original position.\\n\\nRight turn\\n\\nRight lane change\\n\\nOFF\\n\\nLeft lane change\\n\\nLeft turn\\n\\nGreen indicators on the dashboard show which signal is working.\\n\\nLane-change signals\\n\\nMove the lever slightly toward the direction of the change ―until the indicator flashes― and hold it there. It will return to the off position when released.\\n\\nNOTE If an indicator light stays on without flashing or if it flashes abnormally, one of the turn signal bulbs may be burned out.\\n\\n5-53\\n\\nMazda3_8Y64-EA-08A_Edition1 Page176 Tuesday, November 27 2007 9:1 AM\\n\\nDriving Your Mazda Switches and Controls\\n\\nFog Lightsí\\n\\nThe front fog lights help you to see as well as to be seen.\\n\\nThe headlights must be turned on to turn on the front fog lights.\\n\\nTo turn the front fog lights on, rotate the fog light switch to the\\n\\nposition.\\n\\nFog light switch\\n\\nTo turn the front fog lights off, rotate the fog light switch to the OFF position or turn the headlights off.'}"
      ]
     },
     "execution_count": 57,
     "metadata": {},
     "output_type": "execute_result"
    }
   ],
   "source": [
    "parsed_raw[0]"
   ]
  },
  {
   "cell_type": "code",
   "execution_count": null,
   "metadata": {},
   "outputs": [],
   "source": []
  }
 ],
 "metadata": {
  "kernelspec": {
   "display_name": "label-app-6Y8iP12x-py3.11",
   "language": "python",
   "name": "python3"
  },
  "language_info": {
   "codemirror_mode": {
    "name": "ipython",
    "version": 3
   },
   "file_extension": ".py",
   "mimetype": "text/x-python",
   "name": "python",
   "nbconvert_exporter": "python",
   "pygments_lexer": "ipython3",
   "version": "3.11.9"
  }
 },
 "nbformat": 4,
 "nbformat_minor": 2
}
